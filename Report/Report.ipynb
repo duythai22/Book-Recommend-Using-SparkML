{
 "cells": [
  {
   "cell_type": "markdown",
   "metadata": {},
   "source": [
    "# Report \n",
    "## Phần 1: Giới thiệu\n",
    "### Thành viên nhóm:\n",
    "| Họ và tên         | MSSV |\n",
    "|:------------------|:------:|\n",
    "| Lê Hoàng Khang    |  20133050  |\n",
    "| Nguyễn Duy Thái   |  20133020  |\n",
    "| Nguyễn Thanh Hùng | 20133045 |\n",
    "| Lê Phước Yên      | 20133119 |"
   ]
  },
  {
   "cell_type": "markdown",
   "metadata": {},
   "source": [
    "### 1.\tTóm tắt (Abstract)\n",
    "Bài toán recommend là một trong những bài toán quan trọng trong lĩnh vực học máy và khai phá dữ liệu. Nhiệm vụ của nó là tạo ra các gợi ý phù hợp cho người dùng dựa trên sở thích và hành vi trước đó của họ.\n",
    "\n",
    "Động lực của bài toán gợi ý sách này bắt nguồn từ việc số lượng sách trên thị trường ngày càng tăng, và người đọc gặp khó khăn trong việc tìm kiếm sách phù hợp với sở thích và nhu cầu của mình. Đồng thời, các nền tảng sách trực cần cung cấp gợi ý sách chính xác để tăng cường trải nghiệm người dùng và tăng doanh số bán hàng.\n",
    "\n",
    "Để giải quyết bài toán recommend sách, ta cần có dữ liệu về sách bao gồm thông tin về tiêu đề sách, tác giả, thể loại, nội dung, năm xuất bản,… và đánh giá của người dùng sau khi đọc cuốn sách đó.Tiếp theo, nhóm sẽ sử dụng các thuật toán học máy như collaborative filtering, content-based filtering để tiến hành khớp với dữ liệu và đưa ra dự đoán. \n",
    "\n",
    "Collaborative filtering dựa trên hành vi đọc sách của người dùng và tìm kiếm những người dùng có sở thích tương tự để đề xuất sách. Content-based filtering dựa trên các thuộc tính của sách để tìm kiếm những sách tương tự.\n",
    "\n",
    "Bài toán recommend sách có động lực mạnh mẽ từ nhu cầu tìm kiếm sách phù hợp và cần sử dụng các phương pháp học máy và khai phá dữ liệu để cung cấp gợi ý sách chính xác và đa dạng cho người dùng."
   ]
  },
  {
   "cell_type": "markdown",
   "metadata": {},
   "source": [
    "### 2.\tGiới thiệu (Introduction)\n",
    "Như đã trình bày trong mục trên, nhóm sẽ sử dụng 2 phương pháp chính là Collaborative Filtering và Content-Based Filtering. \n",
    "Đối với phương pháp Collaborative Filtering:\n",
    "\n",
    "Đầu vào:\n",
    "-\tDữ liệu người dùng: Bao gồm thông tin về người dùng như ID người dùng, đánh giá sách và bất kỳ thông tin cá nhân khác có thể được thu thập (ví dụ: độ tuổi, giới tính, quốc gia).\n",
    "-\tDữ liệu sách: Bao gồm thông tin về các cuốn sách như tiêu đề, tác giả, thể loại, mô tả, danh sách tác giả khác của cuốn sách, và bất kỳ thuộc tính nào khác mô tả nội dung của sách.\n",
    "\n",
    "Đầu ra: Dựa trên thông tin đầu vào, hệ thống Collaborative Filtering sẽ tạo ra các đầu ra sau đây:\n",
    "-\tGợi ý sách: Hệ thống sẽ đề xuất một danh sách các cuốn sách mà người dùng có thể quan tâm dựa trên sở thích và hành vi đọc sách của họ. \n",
    "-\tĐánh giá dự đoán: Hệ thống có thể dự đoán đánh giá mà người dùng có thể đưa ra cho một cuốn sách chưa được đọc dựa trên lịch sử đánh giá của họ và đánh giá của những người dùng khác có sở thích tương tự.\n",
    "Đối với phương pháp Content-Based Filtering:\n",
    "\n",
    "Đầu vào: \n",
    "-\tDữ liệu sách: Bao gồm thông tin về các cuốn sách như tiêu đề, tác giả, thể loại, mô tả và bất kỳ thuộc tính nào khác mô tả nội dung của sách.\n",
    "-\tVector TF-IDF: Đầu vào cho hệ thống Content-Based Filtering là vector TF-IDF của từng cuốn sách. Vector TF-IDF biểu diễn mức độ quan trọng của từng từ trong cuốn sách dựa trên tần suất xuất hiện của từ đó trong tài liệu và trong toàn bộ tập dữ liệu.\n",
    "\n",
    "Đầu ra: Dựa trên thông tin đầu vào và vector TF-IDF, hệ thống Content-Based Filtering sẽ tạo ra các đầu ra sau đây:\n",
    "-\tGợi ý sách: Hệ thống sẽ đề xuất một danh sách các cuốn sách mà người dùng có thể quan tâm dựa trên keyword mà người dùng quan tâm.Các cuốn sách có vector TF-IDF gần giống nhau sẽ được ưu tiên đề xuất.\n",
    "-\tĐộ tương đồng sách: Hệ thống có thể cung cấp thông tin về mức độ tương đồng giữa các cuốn sách dựa trên vector TF-IDF của chúng. Điều này giúp người dùng khám phá các cuốn sách có nội dung tương tự hoặc liên quan."
   ]
  },
  {
   "cell_type": "code",
   "execution_count": 1,
   "metadata": {},
   "outputs": [
    {
     "name": "stderr",
     "output_type": "stream",
     "text": [
      "c:\\Users\\PC\\AppData\\Local\\Programs\\Python\\Python310\\lib\\site-packages\\pyspark\\sql\\context.py:112: FutureWarning: Deprecated in 3.0.0. Use SparkSession.builder.getOrCreate() instead.\n",
      "  warnings.warn(\n"
     ]
    }
   ],
   "source": [
    "from pyspark.sql import SparkSession\n",
    "from pyspark import SparkContext\n",
    "from pyspark.sql import SQLContext\n",
    "from pyspark.ml.recommendation import ALS\n",
    "from pyspark.ml import Pipeline\n",
    "from pyspark.ml.tuning import CrossValidator, ParamGridBuilder\n",
    "from pyspark.ml.feature import RegexTokenizer, CountVectorizer\n",
    "from pyspark.ml.feature import StopWordsRemover\n",
    "from pyspark.ml.feature import IDF\n",
    "from pyspark.ml import Pipeline\n",
    "import numpy as np\n",
    "from pyspark.ml.evaluation import RegressionEvaluator\n",
    "\n",
    "from matplotlib import pyplot as plt\n",
    "import seaborn as sns\n",
    "\n",
    "\n",
    "from pyspark.sql.functions import *\n",
    "from pyspark.sql.types import *\n",
    "\n",
    "from IPython.display import Image, display\n",
    "import findspark\n",
    "\n",
    "findspark.init()\n",
    "\n",
    "sc = SparkContext()\n",
    "spark = SparkSession.builder.appName(\"FinalProject\").getOrCreate()\n",
    "\n",
    "# Get sparkcontext from\n",
    "sqlContext = SQLContext(sc)"
   ]
  },
  {
   "cell_type": "markdown",
   "metadata": {},
   "source": [
    "### 3.\tDữ liệu (Data)\n",
    "#### 3.1 Mô tả tập dữ liệu\n",
    "Dữ liệu sách do nhóm thu thập được trên trang web kaggle. Đây là link đến tập dữ liệu: https://www.kaggle.com/datasets/ruchi798/bookcrossing-dataset \n",
    "Tập dữ liệu gồm 3 file chính chứa bao gồm khoảng 278.858 người dùng, cung cấp hơn 1 triệu lượt ratings về khoảng 270.379 cuốn sách: \n",
    "-\tBX-Book-Ratings: bao gồm ID của người dùng, mã của từng cuốn sách, và rating của người dùng đối với cuốn sách đó.\n",
    "-\tBX-Users: bao gồm ID của người dùng, địa chỉ và độ tuổi.\n",
    "-\tBX-Books: bao gồm mã từng cuốn sách, tiêu đề sách, tác giả, năm xuất bản, nhà xuất bản, nội dung tóm tắt và link đến ảnh của cuốn sách."
   ]
  },
  {
   "cell_type": "code",
   "execution_count": 2,
   "metadata": {},
   "outputs": [
    {
     "name": "stdout",
     "output_type": "stream",
     "text": [
      "+-------+----------+-----------+\n",
      "|User-ID|      ISBN|Book-Rating|\n",
      "+-------+----------+-----------+\n",
      "| 276725|034545104X|          0|\n",
      "| 276726|0155061224|          5|\n",
      "| 276727|0446520802|          0|\n",
      "| 276729|052165615X|          3|\n",
      "| 276729|0521795028|          6|\n",
      "+-------+----------+-----------+\n",
      "only showing top 5 rows\n",
      "\n",
      "+-------+--------------------+----+\n",
      "|User-ID|            Location| Age|\n",
      "+-------+--------------------+----+\n",
      "|      1|  nyc, new york, usa|NULL|\n",
      "|      2|stockton, califor...|  18|\n",
      "|      3|moscow, yukon ter...|NULL|\n",
      "|      4|porto, v.n.gaia, ...|  17|\n",
      "|      5|farnborough, hant...|NULL|\n",
      "+-------+--------------------+----+\n",
      "only showing top 5 rows\n",
      "\n",
      "+----------+--------------------------------------------------------------------------------------------------+--------------------+-------------------+-----------------------+------------------------------------------------------------+------------------------------------------------------------+------------------------------------------------------------+\n",
      "|ISBN      |Book-Title                                                                                        |Book-Author         |Year-Of-Publication|Publisher              |Image-URL-S                                                 |Image-URL-M                                                 |Image-URL-L                                                 |\n",
      "+----------+--------------------------------------------------------------------------------------------------+--------------------+-------------------+-----------------------+------------------------------------------------------------+------------------------------------------------------------+------------------------------------------------------------+\n",
      "|0195153448|Classical Mythology                                                                               |Mark P. O. Morford  |2002               |Oxford University Press|http://images.amazon.com/images/P/0195153448.01.THUMBZZZ.jpg|http://images.amazon.com/images/P/0195153448.01.MZZZZZZZ.jpg|http://images.amazon.com/images/P/0195153448.01.LZZZZZZZ.jpg|\n",
      "|0002005018|Clara Callan                                                                                      |Richard Bruce Wright|2001               |HarperFlamingo Canada  |http://images.amazon.com/images/P/0002005018.01.THUMBZZZ.jpg|http://images.amazon.com/images/P/0002005018.01.MZZZZZZZ.jpg|http://images.amazon.com/images/P/0002005018.01.LZZZZZZZ.jpg|\n",
      "|0060973129|Decision in Normandy                                                                              |Carlo D'Este        |1991               |HarperPerennial        |http://images.amazon.com/images/P/0060973129.01.THUMBZZZ.jpg|http://images.amazon.com/images/P/0060973129.01.MZZZZZZZ.jpg|http://images.amazon.com/images/P/0060973129.01.LZZZZZZZ.jpg|\n",
      "|0374157065|Flu: The Story of the Great Influenza Pandemic of 1918 and the Search for the Virus That Caused It|Gina Bari Kolata    |1999               |Farrar Straus Giroux   |http://images.amazon.com/images/P/0374157065.01.THUMBZZZ.jpg|http://images.amazon.com/images/P/0374157065.01.MZZZZZZZ.jpg|http://images.amazon.com/images/P/0374157065.01.LZZZZZZZ.jpg|\n",
      "|0393045218|The Mummies of Urumchi                                                                            |E. J. W. Barber     |1999               |W. W. Norton & Company |http://images.amazon.com/images/P/0393045218.01.THUMBZZZ.jpg|http://images.amazon.com/images/P/0393045218.01.MZZZZZZZ.jpg|http://images.amazon.com/images/P/0393045218.01.LZZZZZZZ.jpg|\n",
      "+----------+--------------------------------------------------------------------------------------------------+--------------------+-------------------+-----------------------+------------------------------------------------------------+------------------------------------------------------------+------------------------------------------------------------+\n",
      "only showing top 5 rows\n",
      "\n",
      "+----------+--------------------+\n",
      "|      ISBN|             Summary|\n",
      "+----------+--------------------+\n",
      "|0195153448|Provides an intro...|\n",
      "|0002005018|In a small town i...|\n",
      "|0060973129|Here, for the fir...|\n",
      "|0374157065|Describes the gre...|\n",
      "|0393045218|A look at the inc...|\n",
      "+----------+--------------------+\n",
      "only showing top 5 rows\n",
      "\n"
     ]
    }
   ],
   "source": [
    "# đọc dữ liệu bảng book-ratings\n",
    "ratings = spark.read.csv(\"../Data/BX-Book-Ratings.csv\", sep=\";\", header=True, encoding=\"latin1\")\n",
    "users = spark.read.csv(\"../Data/BX-Users.csv\", sep=\";\", header=True, encoding=\"latin1\")\n",
    "books = spark.read.csv(\"../Data/BX_Books.csv\", sep=\";\", header=True, encoding=\"latin1\")\n",
    "summary = spark.read.parquet(\"../Data/Summaryyy.parquet\")\n",
    "ratings.show(5)\n",
    "users.show(5)\n",
    "books.show(5, False)\n",
    "summary.show(5)"
   ]
  },
  {
   "cell_type": "markdown",
   "metadata": {},
   "source": [
    "#### 3.2 Tiền xử lý dữ liệu"
   ]
  },
  {
   "cell_type": "markdown",
   "metadata": {},
   "source": [
    "Join 3 bảng lại với nhau\n"
   ]
  },
  {
   "cell_type": "code",
   "execution_count": 3,
   "metadata": {},
   "outputs": [],
   "source": [
    "books = books.join(summary, on=\"ISBN\", how=\"inner\")\n",
    "df = ratings.join(users, on='User-ID')\n",
    "df = df.join(books, on='ISBN')"
   ]
  },
  {
   "cell_type": "markdown",
   "metadata": {},
   "source": [
    "Chuyển đổi kiểu dữ liệu String - Integer"
   ]
  },
  {
   "cell_type": "code",
   "execution_count": 4,
   "metadata": {},
   "outputs": [],
   "source": [
    "df = df.withColumn(\"Age\", df[\"Age\"].cast(IntegerType()))\n",
    "df = df.withColumn(\"Year-Of-Publication\",\n",
    "                   df[\"Year-Of-Publication\"].cast(IntegerType()))\n",
    "df = df.withColumn(\"Book-Rating\", df[\"Book-Rating\"].cast(IntegerType()))\n",
    "df = df.withColumn(\"User-ID\", df[\"User-ID\"].cast(IntegerType()))\n",
    "\n",
    "df = df.withColumn(\"location_array\", split(df[\"location\"], \", \"))\n",
    "df = df.withColumn(\"country\", df[\"location_array\"][2])\n",
    "df = df.drop(\"location_array\")"
   ]
  },
  {
   "cell_type": "markdown",
   "metadata": {},
   "source": [
    "Xóa các kí tự chữ cái trong ISBN và chuyển về kiểu int"
   ]
  },
  {
   "cell_type": "code",
   "execution_count": 5,
   "metadata": {},
   "outputs": [],
   "source": [
    "df = df.withColumn(\n",
    "    \"ISBN\",\n",
    "    when(\n",
    "\n",
    "        expr(\"substring(ISBN, -1, 1) = 'X'\"),\n",
    "\n",
    "        expr(\"substring(ISBN, 1, length(ISBN) - 1)\"),\n",
    "\n",
    "    ).otherwise(col(\"ISBN\")),\n",
    ")\n",
    "\n",
    "\n",
    "df = df.withColumn(\"ISBN\", df[\"ISBN\"].cast(IntegerType()))"
   ]
  },
  {
   "cell_type": "markdown",
   "metadata": {},
   "source": [
    "Đếm cột Age có bao nhiêu giá trị null và thực hiện thay thế giá trị null cột Age bằng giá trị trung bình của cột\n"
   ]
  },
  {
   "cell_type": "code",
   "execution_count": 6,
   "metadata": {},
   "outputs": [],
   "source": [
    "df.where((col(\"Age\").isNull())).count()\n",
    "average_age = df.select(avg(\"Age\")).collect()[0][0]\n",
    "df = df.withColumn(\"Age\", when(col(\"Age\").isNull(),\n",
    "                   int(average_age)).otherwise(col(\"Age\")))"
   ]
  },
  {
   "cell_type": "markdown",
   "metadata": {},
   "source": [
    "Xóa những rating có giá trị = 0 ra khỏi tập dữ liệu, có thể là do người dùng chưa thực hiện rating hoặc có lỗi trong quá trình thu thập\n"
   ]
  },
  {
   "cell_type": "code",
   "execution_count": 7,
   "metadata": {},
   "outputs": [],
   "source": [
    "df = df.filter(df[\"Book-Rating\"] != 0)\n",
    "\n",
    "# in ra tổng số dòng của dữ liệu sau khi xử lí\n",
    "df.count()\n",
    "\n",
    "df = df.dropna(subset=[\"ISBN\"])\n",
    "df = df.drop(\"Image-URL-S\")\n",
    "df = df.drop(\"Image-URL-L\")"
   ]
  },
  {
   "cell_type": "markdown",
   "metadata": {},
   "source": [
    "### 4. Phương pháp (Methods)\n",
    "4.1. Phương pháp Collaborative Filtering sử dụng thuật toán ALS\n",
    "- Thuật toán ALS (Alternating Least Squares) là một phương pháp phân rã ma trận được sử dụng trong hệ thống recommendation. Ý tưởng chính của ALS là tìm cách phân rã ma trận đánh giá thành hai ma trận con, một ma trận đại diện cho người dùng và một ma trận đại diện cho các mục tiêu (items). \n",
    "\n",
    "- Thuật toán ALS bắt đầu bằng việc khởi tạo ngẫu nhiên hai ma trận đại diện cho người dùng và các mục tiêu. Sau đó, nó sẽ lần lượt cập nhật các ma trận này bằng cách giải hai bài toán tối ưu riêng lẻ. \n",
    "\n",
    "- Cụ thể, trong bước cập nhật ma trận người dùng, ALS sử dụng phương pháp bình phương tối tiểu (least squares) để tìm ma trận người dùng tốt nhất sao cho tổng bình phương sai số giữa ma trận ban đầu và ma trận đã cập nhật là nhỏ nhất. Quá trình này liên tục được lặp lại cho đến khi đạt được điều kiện dừng.\n",
    "\n",
    "- Tương tự, trong bước cập nhật ma trận mục tiêu, ALS sử dụng phương pháp bình phương tối tiểu để tìm ma trận mục tiêu tốt nhất sao cho tổng bình phương sai số giữa ma trận ban đầu và ma trận đã cập nhật là nhỏ nhất. \n",
    "\n",
    "- Thuật toán ALS tiếp tục lặp lại quá trình cập nhật cho đến khi đạt được điều kiện dừng, ví dụ như số lần lặp tối đa hoặc sai số giữa các lần cập nhật liên tiếp không đáng kể. Như vậy, ALS giúp tìm ra các ma trận đại diện tốt nhất cho người dùng và các mục tiêu, từ đó xây dựng hệ thống recommendation dựa trên đánh giá của người dùng trước đó."
   ]
  },
  {
   "cell_type": "markdown",
   "metadata": {},
   "source": [
    "Chia tập dữ liệu"
   ]
  },
  {
   "cell_type": "code",
   "execution_count": 8,
   "metadata": {},
   "outputs": [],
   "source": [
    "training_df, validation_df = df.randomSplit([.7, .3], seed=22)"
   ]
  },
  {
   "cell_type": "code",
   "execution_count": 9,
   "metadata": {},
   "outputs": [
    {
     "name": "stdout",
     "output_type": "stream",
     "text": [
      "RMSE value 2.2188869440141965\n"
     ]
    }
   ],
   "source": [
    "# Khởi tạo các tham số\n",
    "als = ALS(\n",
    "    maxIter=15,\n",
    "    regParam=1,\n",
    "    rank=10,\n",
    "    userCol=\"User-ID\",\n",
    "    itemCol=\"ISBN\",\n",
    "    ratingCol=\"Book-Rating\",\n",
    "    coldStartStrategy=\"drop\",\n",
    "    nonnegative=True\n",
    ")\n",
    "\n",
    "model = als.fit(training_df)\n",
    "\n",
    "predictions = model.transform(validation_df)\n",
    "\n",
    "# Đánh giá mô hình bằng giá trị RMSE\n",
    "evaluator = RegressionEvaluator(\n",
    "    metricName=\"rmse\", labelCol=\"Book-Rating\", predictionCol=\"prediction\"\n",
    ")\n",
    "rmse = evaluator.evaluate(predictions)\n",
    "print(\"RMSE value\", str(rmse))"
   ]
  },
  {
   "cell_type": "markdown",
   "metadata": {},
   "source": [
    "4.1. Phương pháp Content-Based Filtering\n",
    "\n",
    "Phương pháp Content-Based là một phương pháp trong lĩnh vực học máy và khai phá dữ liệu, được sử dụng để gợi ý hoặc đề xuất các mục (items) mới cho người dùng dựa trên thông tin về các mục đã được đánh giá trước đó. Phương pháp này tập trung vào nội dung (content) của các mục và xây dựng mô hình để đo lường mức độ tương đồng giữa các mục dựa trên các đặc trưng của chúng.\n",
    "\n",
    "Cách thức hoạt động của phương pháp Content-based thường bao gồm các bước sau:\n",
    "\n",
    "- Xác định các đặc trưng (features) của các mục: Đây có thể là các thuộc tính hoặc thông tin mô tả của các mục, ví dụ: từ khóa, thể loại, diễn viên, nhãn hiệu, v.v.\n",
    "\n",
    "- Biểu diễn các mục dưới dạng vector: Các đặc trưng của các mục được biểu diễn dưới dạng vector.\n",
    "\n",
    "- Xây dựng mô hình tương đồng: Một mô hình được xây dựng để đo lường mức độ tương đồng giữa các mục dựa trên biểu diễn vector của chúng. Phương pháp đo lường tương đồng thông thường bao gồm độ đo Cosine.\n",
    "\n",
    "- Gợi ý các mục tương tự: Dựa trên mô hình tương đồng, các mục có mức độ tương đồng cao với mục đang xem xét được gợi ý cho người dùng.\n",
    "\n",
    "Phương pháp Content-based thường được sử dụng trong các hệ thống gợi ý (recommendation systems) để đề xuất các mục tương tự hoặc liên quan dựa trên sự tương đồng về nội dung của các mục."
   ]
  },
  {
   "cell_type": "code",
   "execution_count": 10,
   "metadata": {},
   "outputs": [
    {
     "name": "stdout",
     "output_type": "stream",
     "text": [
      "+----------+-----------------------------------------------------------------------------------------------------------------------------------------------------------------------------------------------------------------------------------------------------------+\n",
      "|ISBN      |Summary                                                                                                                                                                                                                                                    |\n",
      "+----------+-----------------------------------------------------------------------------------------------------------------------------------------------------------------------------------------------------------------------------------------------------------+\n",
      "|3423620005|Wer bist du? &quot;fragt eín unbekannter Absender Sofie in einem\\nBrief. Noch am selben Tag kommt ein Zweiter. &quot;Woher hommt die\\nWelt?&quot; will diesmal der Schreiber wissen                                                                        |\n",
      "|067174139X|The U.S.S. EnterpriseTM journeys to Lorca, a beautiful world with a\\nfeudal culture where the inhabitants wear masks to show their rank and\\nstation.                                                                                                      |\n",
      "|0446530115|A fictional retelling of the life of Moses is narrated from the\\nperspective of the women who loved him, from the mother and sister who\\nsaved his life by giving him up, to the Egyptian princess who adopted\\nhim, to the shepherd&#39;s daughter who ...|\n",
      "+----------+-----------------------------------------------------------------------------------------------------------------------------------------------------------------------------------------------------------------------------------------------------------+\n",
      "only showing top 3 rows\n",
      "\n"
     ]
    }
   ],
   "source": [
    "book_sample = books.sample(0.2, seed=123)\n",
    "text = book_sample.select(\"ISBN\", \"Summary\")\n",
    "text.show(3, False)"
   ]
  },
  {
   "cell_type": "code",
   "execution_count": 11,
   "metadata": {},
   "outputs": [],
   "source": [
    "from operator import add\n",
    "\n",
    "text_by_book = text.rdd.map(tuple).reduceByKey(add)\n",
    "columns = [\"ISBN\", \"Summary\"]\n",
    "text_by_book_df = spark.createDataFrame(text_by_book, schema=columns)\n",
    "\n",
    "tokenizer = RegexTokenizer(\n",
    "    pattern=\"\\w+\", inputCol=\"Summary\", outputCol=\"tokens\", toLowercase=True, gaps=False\n",
    ")\n",
    "stopWordsRemover = StopWordsRemover(inputCol=\"tokens\", outputCol=\"nostopwords\")\n",
    "countVectorizer = CountVectorizer(\n",
    "    inputCol=\"nostopwords\", outputCol=\"tf\", vocabSize=1000\n",
    ")\n",
    "tfiDF = IDF(inputCol=\"tf\", outputCol=\"tfidf_vec\")\n",
    "pipeline = Pipeline(\n",
    "    stages=[tokenizer, stopWordsRemover, countVectorizer, tfiDF])\n",
    "\n",
    "\n",
    "# Fit the model\n",
    "pipeline_model = pipeline.fit(text_by_book_df)"
   ]
  },
  {
   "cell_type": "code",
   "execution_count": 12,
   "metadata": {},
   "outputs": [],
   "source": [
    "transformed_text_by_books = pipeline_model.transform(text_by_book_df)"
   ]
  },
  {
   "cell_type": "code",
   "execution_count": 13,
   "metadata": {},
   "outputs": [],
   "source": [
    "def cosineSimilarity(vector1, vector2):\n",
    "    numerator = np.dot(vector1, vector2)\n",
    "    denominator = np.sqrt(np.dot(vector1, vector1)) * \\\n",
    "        np.sqrt(np.dot(vector2, vector2))\n",
    "\n",
    "    return float(numerator / denominator)\n"
   ]
  },
  {
   "cell_type": "code",
   "execution_count": 14,
   "metadata": {},
   "outputs": [],
   "source": [
    "all_books_tfidf = transformed_text_by_books.select(\"ISBN\", \"tfidf_vec\").rdd.map(lambda x: (x[0], x[1]))"
   ]
  },
  {
   "cell_type": "code",
   "execution_count": 15,
   "metadata": {},
   "outputs": [],
   "source": [
    "def getBookDetails(sim_book):\n",
    "    book_details = sim_book.join(books, \"ISBN\", \"inner\").select(\n",
    "        \"ISBN\",\n",
    "        \"similarity_score\",\n",
    "        \"Book-Title\",\n",
    "        \"Book-Author\",\n",
    "        \"Year-Of-Publication\",\n",
    "        \"Publisher\",\n",
    "        \"Image-URL-M\",\n",
    "        \"Summary\",\n",
    "    )\n",
    "\n",
    "    return book_details\n"
   ]
  },
  {
   "cell_type": "code",
   "execution_count": 16,
   "metadata": {},
   "outputs": [],
   "source": [
    "def keyWordsRecommendation(keyword, all_books_tfidf):\n",
    "    input_word_df = sc.parallelize([(0, keyword)]).toDF([\"ISBN\", \"Summary\"])\n",
    "    input_word_df = pipeline_model.transform(input_word_df)\n",
    "    input_word_tfidf = input_word_df.select(\"tfidf_vec\").collect()[0][0]\n",
    "\n",
    "    similar_books_rdd = all_books_tfidf.map(\n",
    "        lambda x: (x[0], cosineSimilarity(x[1], input_word_tfidf))\n",
    "    )\n",
    "\n",
    "    sim_book_by_keyword = (\n",
    "        similar_books_rdd.toDF([\"ISBN\", \"similarity_score\"])\n",
    "        .dropna()\n",
    "        .orderBy(\"similarity_score\", ascending=False)\n",
    "        .limit(10)\n",
    "    )\n",
    "\n",
    "    return sim_book_by_keyword"
   ]
  },
  {
   "cell_type": "markdown",
   "metadata": {},
   "source": [
    "### 5. Thực nghiệm, kết quả, và thảo luận (Experiments, Results, and Discussions)"
   ]
  },
  {
   "cell_type": "markdown",
   "metadata": {},
   "source": [
    "5.1 Visualization\n",
    "\n",
    "Nhóm sẽ thực hiện trực quan một vài biểu đồ để đưa ra các nhận định về sự đề xuất sách cho các người đọc tiếp cận."
   ]
  },
  {
   "cell_type": "code",
   "execution_count": 17,
   "metadata": {},
   "outputs": [
    {
     "data": {
      "text/plain": [
       "Text(0.5, 1.0, 'Rating Distribution')"
      ]
     },
     "execution_count": 17,
     "metadata": {},
     "output_type": "execute_result"
    },
    {
     "data": {
      "image/png": "[encoded data removed]",
      "text/plain": [
       "<Figure size 432x288 with 1 Axes>"
      ]
     },
     "metadata": {
      "needs_background": "light"
     },
     "output_type": "display_data"
    }
   ],
   "source": [
    "df_1 = df.toPandas()\n",
    "\n",
    "plt.figure(figsize=(6, 4))\n",
    "sns.countplot(x=\"Book-Rating\", data=df_1)\n",
    "plt.title(\"Rating Distribution\", size=20)"
   ]
  },
  {
   "cell_type": "markdown",
   "metadata": {},
   "source": [
    "Qua biểu đồ phân bố rating, ta có thể thấy điểm rating nằm từ 1-10, phân bố cao vào khoảng từ 5-10, cho thấy lượt đánh giá của 1 user cho một cuốn sách là cao."
   ]
  },
  {
   "cell_type": "code",
   "execution_count": 18,
   "metadata": {},
   "outputs": [
    {
     "data": {
      "text/plain": [
       "Text(0.5, 1.0, 'Authors with most Ratings')"
      ]
     },
     "execution_count": 18,
     "metadata": {},
     "output_type": "execute_result"
    },
    {
     "data": {
      "image/png": "[encoded data removed]",
      "text/plain": [
       "<Figure size 720x720 with 1 Axes>"
      ]
     },
     "metadata": {
      "needs_background": "light"
     },
     "output_type": "display_data"
    }
   ],
   "source": [
    "\n",
    "\n",
    "ds = df_1[\"Book-Author\"].value_counts().head(50).reset_index()\n",
    "ds.columns = [\"author\", \"count\"]\n",
    "\n",
    "plt.figure(figsize=(10, 10))\n",
    "sns.barplot(x=\"count\", y=\"author\", data=ds)\n",
    "plt.xlabel(\"Author\")\n",
    "plt.ylabel(\"Count\")\n",
    "plt.title(\"Authors with most Ratings\", size=20)"
   ]
  },
  {
   "cell_type": "markdown",
   "metadata": {},
   "source": [
    "Nhóm nhận thấy rằng qua biểu đồ các tác giả như \"Stephen King, Nora Roberts, John Grisham, J. K. Rowling\" có số lượng sách viết ra khá là nhiều và có thể là tuần số ra sách khá là thường xuyên. Do vậy có thể hệ thống sẽ đưa ra đề xuất với các tác giả sau cao hơn các tác giả khác."
   ]
  },
  {
   "cell_type": "code",
   "execution_count": 19,
   "metadata": {},
   "outputs": [
    {
     "name": "stderr",
     "output_type": "stream",
     "text": [
      "c:\\Users\\PC\\AppData\\Local\\Programs\\Python\\Python310\\lib\\site-packages\\seaborn\\distributions.py:2619: FutureWarning: `distplot` is a deprecated function and will be removed in a future version. Please adapt your code to use either `displot` (a figure-level function with similar flexibility) or `histplot` (an axes-level function for histograms).\n",
      "  warnings.warn(msg, FutureWarning)\n"
     ]
    },
    {
     "data": {
      "text/plain": [
       "Text(0.5, 1.0, 'Age Distribution')"
      ]
     },
     "execution_count": 19,
     "metadata": {},
     "output_type": "execute_result"
    },
    {
     "data": {
      "image/png": "[encoded data removed]",
      "text/plain": [
       "<Figure size 864x576 with 1 Axes>"
      ]
     },
     "metadata": {
      "needs_background": "light"
     },
     "output_type": "display_data"
    }
   ],
   "source": [
    "plt.figure(figsize=(12, 8))\n",
    "sns.distplot(df_1[\"Age\"], kde=False)\n",
    "plt.xlabel(\"Age\")\n",
    "plt.ylabel(\"Frequency\")\n",
    "plt.title(\"Age Distribution\", size=20)"
   ]
  },
  {
   "cell_type": "markdown",
   "metadata": {},
   "source": [
    "Từ biểu đồ có thể nhận thấy số lượng đọc sách của lứa tuổi trung niên (25-40) khá nhà nhiều vược mặt những lứa tuổi khác. Nhận thấy rằng tầm quan trọng của việc đọc sách mà nó mang lại khá là tốt."
   ]
  },
  {
   "cell_type": "markdown",
   "metadata": {},
   "source": [
    "5.2 Thuật toán ALS\n",
    "\n",
    "Với thuật toán này, có một số siêu tham số được sử dụng để cấu hình và huấn luyện mô hình ALS. Dưới đây là giải thích cho mỗi siêu tham số:\n",
    "\n",
    "- maxIter: Đây là số lượng lặp lại tối đa của thuật toán ALS. Nó xác định số lần mô hình sẽ được cập nhật theo thứ tự lặp lại ma trận người dùng-latent factors và ma trận latent factors-mục.\n",
    "\n",
    "- regParam: Tham số điều chuẩn (regularization parameter) được sử dụng để kiểm soát overfitting trong quá trình huấn luyện. Giá trị regParam càng cao, càng giảm khả năng mô hình bị overfitting.\n",
    "\n",
    "- rank: Đây là kích thước của các latent factors, tức là số chiều của ma trận người dùng-latent factors và ma trận latent factors-mục. Thông thường, rank được lựa chọn như một giá trị nhỏ hơn kích thước thực sự của ma trận đánh giá để giảm chiều dữ liệu và tăng tốc độ tính toán."
   ]
  },
  {
   "cell_type": "markdown",
   "metadata": {},
   "source": [
    "Giá trị RMSE để đánh giá chất lượng của mô hình ALS. RMSE đo lường mức độ sai lệch giữa giá trị dự đoán và giá trị thực tế, và giá trị càng thấp thì mô hình càng chính xác.\n",
    "\n",
    "* `RMSE = sqrt(Σ(Giá trị dự đoán - Giá trị thực tế)^2 / Số lượng items)`"
   ]
  },
  {
   "cell_type": "markdown",
   "metadata": {},
   "source": [
    "Thực hiện việc tìm kiếm và chọn mô hình ALS tốt nhất dựa trên cross-validation trên tập dữ liệu huấn luyện, và sau đó in ra các giá trị tốt nhất của các siêu tham số. "
   ]
  },
  {
   "cell_type": "code",
   "execution_count": 20,
   "metadata": {},
   "outputs": [
    {
     "name": "stdout",
     "output_type": "stream",
     "text": [
      "ALSModel: uid=ALS_bc2c5ca3f29f, rank=10\n",
      "Best params:\n",
      "maxIter: 15\n",
      "regParam: 1.0\n",
      "rank: 10\n"
     ]
    }
   ],
   "source": [
    "paramGrid = (\n",
    "    ParamGridBuilder()\n",
    "    .addGrid(als.maxIter, [5, 10, 15])\n",
    "    .addGrid(als.regParam, [0.01, 0.1, 1])\n",
    "    .addGrid(als.rank, [10, 20, 30, 40])\n",
    "    .build()\n",
    ")\n",
    "\n",
    "evaluator = RegressionEvaluator(\n",
    "    metricName=\"rmse\", labelCol=\"Book-Rating\", predictionCol=\"prediction\"\n",
    ")\n",
    "\n",
    "cv = CrossValidator(\n",
    "    estimator=als, estimatorParamMaps=paramGrid, evaluator=evaluator, numFolds=5\n",
    ")\n",
    "\n",
    "best_model = cv.fit(training_df)\n",
    "model = best_model.bestModel\n",
    "print(model)\n",
    "\n",
    "print(\"Best params:\")\n",
    "print(\"maxIter:\", model._java_obj.parent().getMaxIter())  \n",
    "print(\"regParam:\", model._java_obj.parent().getRegParam())  \n",
    "print(\"rank:\", model._java_obj.parent().getRank())  "
   ]
  },
  {
   "cell_type": "markdown",
   "metadata": {},
   "source": [
    "Quá trình thực nghiệm với 1 user."
   ]
  },
  {
   "cell_type": "code",
   "execution_count": 21,
   "metadata": {},
   "outputs": [
    {
     "name": "stdout",
     "output_type": "stream",
     "text": [
      "+-------+---------------------------------------------+-----------+----------+\n",
      "|User-ID|Book-Title                                   |Book-Rating|prediction|\n",
      "+-------+---------------------------------------------+-----------+----------+\n",
      "|53     |A Soldier of the Great War                   |9          |2.4279265 |\n",
      "|99     |Pasquale's Nose: Idle Days in an Italian Town|7          |6.457656  |\n",
      "|99     |The Pillars of the Earth                     |3          |7.304619  |\n",
      "|114    |Dead Aim                                     |9          |7.686734  |\n",
      "|165    |Little Altars Everywhere: A Novel            |9          |3.3577926 |\n",
      "+-------+---------------------------------------------+-----------+----------+\n",
      "only showing top 5 rows\n",
      "\n"
     ]
    }
   ],
   "source": [
    "predictions.select(\"User-ID\", \"Book-Title\", \"Book-Rating\", \"prediction\").orderBy(\n",
    "    col(\"User-ID\")\n",
    ").show(5, False)"
   ]
  },
  {
   "cell_type": "markdown",
   "metadata": {},
   "source": [
    "5.3 Phương pháp Content-Based Filtering\n",
    "\n",
    "Một pipeline được sử dụng để xây dựng một quy trình xử lý dữ liệu văn bản. Dưới đây là giải thích cho mỗi siêu tham số trong quy trình xử lý dữ liệu:\n",
    "\n",
    "- RegexTokenizer: Đây là một bộ phân mảnh (tokenizer) dựa trên biểu thức chính quy (regex) được sử dụng để phân tách văn bản thành các từ riêng biệt. Tham số pattern xác định biểu thức chính quy để tách từ, và inputCol là tên cột chứa văn bản đầu vào. Kết quả của bộ phân mảnh sẽ được lưu vào cột tokens.\n",
    "\n",
    "- StopWordsRemover: Đây là một bộ loại bỏ từ dừng (stop words) được sử dụng để loại bỏ các từ phổ biến và không mang nhiều ý nghĩa từ văn bản. Tham số inputCol là tên cột chứa danh sách các từ đã được phân mảnh, và outputCol là tên cột chứa kết quả sau khi loại bỏ từ dừng. Kết quả sẽ được lưu vào cột nostopwords.\n",
    "\n",
    "- CountVectorizer: Đây là một bộ vector hóa đếm (count vectorizer) được sử dụng để biến đổi các văn bản thành vectơ đếm. Tham số inputCol là tên cột chứa danh sách các từ đã được loại bỏ từ dừng, và outputCol là tên cột chứa vectơ đếm. Tham số vocabSize xác định số lượng từ duy nhất trong từ điển của vectơ đếm.\n",
    "\n",
    "- IDF: Đây là một bộ trọng số IDF (Inverse Document Frequency) được sử dụng để tính toán trọng số IDF cho các từ trong vectơ đếm. Tham số inputCol là tên cột chứa vectơ đếm, và outputCol là tên cột chứa vectơ trọng số IDF.\n",
    "\n",
    "- Pipeline: Đây là một chuỗi các giai đoạn (stages) xử lý dữ liệu văn bản. Các giai đoạn được xác định bằng danh sách các đối tượng xử lý dữ liệu, bao gồm tokenizer, stopWordsRemover, countVectorizer và tfiDF. Các giai đoạn sẽ được thực hiện theo thứ tự trong danh sách.\n",
    "\n",
    "Sau khi khởi tạo pipeline và định nghĩa các giai đoạn, mô hình pipeline được huấn luyện bằng cách gọi phương thức fit() trên dữ liệu văn bản text_by_book_df. Quá trình huấn luyện sẽ thực hiện lần lượt các giai đoạn trong pipeline, và kết quả cuối cùng là một pipeline_model chứa các thông tin và trạng thái của mô hình đã được huấn luyện."
   ]
  },
  {
   "cell_type": "markdown",
   "metadata": {},
   "source": [
    "Nhóm thực hiện thử nghiệm với 1 key word để đưa ra các để xuất"
   ]
  },
  {
   "cell_type": "code",
   "execution_count": 28,
   "metadata": {},
   "outputs": [
    {
     "name": "stdout",
     "output_type": "stream",
     "text": [
      "\n",
      "Books similar to keyword - wild animal\n",
      "+----------+-------------------+---------------------------------------------------------------------+-----------------+-------------------+-----------------------------------+------------------------------------------------------------+-------------------------------------------------------------------------------------------------------------------------------------------------------------------------------------------------------------------------------------------------------+\n",
      "|ISBN      |similarity_score   |Book-Title                                                           |Book-Author      |Year-Of-Publication|Publisher                          |Image-URL-M                                                 |Summary                                                                                                                                                                                                                                                |\n",
      "+----------+-------------------+---------------------------------------------------------------------+-----------------+-------------------+-----------------------------------+------------------------------------------------------------+-------------------------------------------------------------------------------------------------------------------------------------------------------------------------------------------------------------------------------------------------------+\n",
      "|059031971X|0.6469376166083098 |The Gentle Jungle                                                    |Toni R. Helfer   |1981               |Scholastic Paperbacks (Mm)         |http://images.amazon.com/images/P/059031971X.01.MZZZZZZZ.jpg|Describes the history and techniques of wild animal affection training\\nas perfected by Ralph Helfer.                                                                                                                                                  |\n",
      "|1564585506|0.595001952867062  |Big Pictures: Wild Animals                                           |Mary Ling        |1994               |Dorling Kindersley                 |http://images.amazon.com/images/P/1564585506.01.MZZZZZZZ.jpg|Each photograph of a wild mammal or bird is accompanied by a question\\nand answer offering information about the animal or its behavior                                                                                                                |\n",
      "|0440159415|0.5845439562587951 |My Wild World                                                        |Joan Embery      |1981               |Bantam Books (Mm)                  |http://images.amazon.com/images/P/0440159415.01.MZZZZZZZ.jpg|Embery, the San Diego Zoo&#39;s Wild Animal Ambassador, describes how\\nshe first began working with animals and discusses her successful\\ncareer training and caring for an amazing variety of exotic and wild\\ncreatures                              |\n",
      "|1881699021|0.5478580272597805 |Strolling with Our Kin: Speaking for and Respecting Voiceless Animals|Marc Bekoff      |2000               |Amer Anti-Vivisection Society      |http://images.amazon.com/images/P/1881699021.01.MZZZZZZZ.jpg|A look at animal protection and compassion, using animals as fur and\\nfood, animal pain and suffering, and dissection and vivisection.                                                                                                                 |\n",
      "|0486296547|0.5397765730533401 |Riddles, Riddles, Riddles (Dover Game & Puzzle Activity Books)       |Darwin A. Hindman|1997               |Dover Publications                 |http://images.amazon.com/images/P/0486296547.01.MZZZZZZZ.jpg|What animal doesn&#39;t play fair?                                                                                                                                                                                                                     |\n",
      "|0061083852|0.5157632592329343 |A Purrfect Romance                                                   |Jennifer Blake   |1995               |HarperCollins Publishers           |http://images.amazon.com/images/P/0061083852.01.MZZZZZZZ.jpg|Three stories follow the adventures of a young woman who dares to tame\\na wild animal and a cold-hearted assassin, a dressmaker whose prayers\\nare about to be answered, and an enchanted daughter of a Welsh\\nchieftain who is drawn to a prisoner ...|\n",
      "|0812095375|0.5133831536716956 |Hamsters & Guinea Pigs (First Pets)                                  |Kate Petty       |1988               |Barron's                           |http://images.amazon.com/images/P/0812095375.01.MZZZZZZZ.jpg|An introduction to guinea pigs for one interested in that animal as a\\npet.                                                                                                                                                                            |\n",
      "|0590464388|0.48433575883717017|Fraidy Cats (Hello Reader, Level 2)                                  |Stephen Krensky  |1993               |Scholastic                         |http://images.amazon.com/images/P/0590464388.01.MZZZZZZZ.jpg|One dark and noisy night the Fraidy Cats let their imaginations run\\nwild, visualizing scary things from wild elephants to hungry wolves.                                                                                                              |\n",
      "|0448095130|0.4818107744206124 |The Mystery of the Ivory Charm (Nancy Drew Mystery Stories, No 13)   |Carolyn Keene    |1974               |Grosset & Dunlap                   |http://images.amazon.com/images/P/0448095130.01.MZZZZZZZ.jpg|Nancy Drew determines whether an ivory elephant charm really protects\\nits wearer from harm when she investigates the involvement of a member\\nof the Bengleton Wild-Animal Show in a mysterious scheme.                                               |\n",
      "|1853261289|0.4798158817935101 |Aesop's Fables (Wordsworth Collection)                               |Aesop            |1998               |NTC/Contemporary Publishing Company|http://images.amazon.com/images/P/1853261289.01.MZZZZZZZ.jpg|A collection of animal fables told by the Greek slave Aesop.                                                                                                                                                                                           |\n",
      "+----------+-------------------+---------------------------------------------------------------------+-----------------+-------------------+-----------------------------------+------------------------------------------------------------+-------------------------------------------------------------------------------------------------------------------------------------------------------------------------------------------------------------------------------------------------------+\n",
      "\n"
     ]
    }
   ],
   "source": [
    "# Key word similarity in review text for recommendation\n",
    "key_word = \"wild animal\"\n",
    "\n",
    "print(f\"\\nBooks similar to keyword - {key_word}\")\n",
    "sim_books_keyword = keyWordsRecommendation(key_word, all_books_tfidf)\n",
    "\n",
    "# Get details of these similar restaurants\n",
    "sim_books_keyword_details = getBookDetails(sim_books_keyword)\n",
    "sim_books_keyword_details.cache()\n",
    "sim_books_keyword_details.orderBy(\"similarity_score\", ascending=False).show(10, False)\n"
   ]
  },
  {
   "cell_type": "code",
   "execution_count": 27,
   "metadata": {},
   "outputs": [
    {
     "name": "stdout",
     "output_type": "stream",
     "text": [
      "Title:  Strolling with Our Kin: Speaking for and Respecting Voiceless Animals\n"
     ]
    },
    {
     "data": {
      "text/html": [
       "<img src=\"http://images.amazon.com/images/P/1881699021.01.MZZZZZZZ.jpg\"/>"
      ],
      "text/plain": [
       "<IPython.core.display.Image object>"
      ]
     },
     "metadata": {},
     "output_type": "display_data"
    },
    {
     "name": "stdout",
     "output_type": "stream",
     "text": [
      "Summary:  A look at animal protection and compassion, using animals as fur and\n",
      "food, animal pain and suffering, and dissection and vivisection.\n",
      "\n",
      "\n",
      "Title:  My Wild World\n"
     ]
    },
    {
     "data": {
      "text/html": [
       "<img src=\"http://images.amazon.com/images/P/0440159415.01.MZZZZZZZ.jpg\"/>"
      ],
      "text/plain": [
       "<IPython.core.display.Image object>"
      ]
     },
     "metadata": {},
     "output_type": "display_data"
    },
    {
     "name": "stdout",
     "output_type": "stream",
     "text": [
      "Summary:  Embery, the San Diego Zoo&#39;s Wild Animal Ambassador, describes how\n",
      "she first began working with animals and discusses her successful\n",
      "career training and caring for an amazing variety of exotic and wild\n",
      "creatures\n",
      "\n",
      "\n",
      "Title:  Big Pictures: Wild Animals\n"
     ]
    },
    {
     "data": {
      "text/html": [
       "<img src=\"http://images.amazon.com/images/P/1564585506.01.MZZZZZZZ.jpg\"/>"
      ],
      "text/plain": [
       "<IPython.core.display.Image object>"
      ]
     },
     "metadata": {},
     "output_type": "display_data"
    },
    {
     "name": "stdout",
     "output_type": "stream",
     "text": [
      "Summary:  Each photograph of a wild mammal or bird is accompanied by a question\n",
      "and answer offering information about the animal or its behavior\n",
      "\n",
      "\n",
      "Title:  Hamsters & Guinea Pigs (First Pets)\n"
     ]
    },
    {
     "data": {
      "text/html": [
       "<img src=\"http://images.amazon.com/images/P/0812095375.01.MZZZZZZZ.jpg\"/>"
      ],
      "text/plain": [
       "<IPython.core.display.Image object>"
      ]
     },
     "metadata": {},
     "output_type": "display_data"
    },
    {
     "name": "stdout",
     "output_type": "stream",
     "text": [
      "Summary:  An introduction to guinea pigs for one interested in that animal as a\n",
      "pet.\n",
      "\n",
      "\n",
      "Title:  The Mystery of the Ivory Charm (Nancy Drew Mystery Stories, No 13)\n"
     ]
    },
    {
     "data": {
      "text/html": [
       "<img src=\"http://images.amazon.com/images/P/0448095130.01.MZZZZZZZ.jpg\"/>"
      ],
      "text/plain": [
       "<IPython.core.display.Image object>"
      ]
     },
     "metadata": {},
     "output_type": "display_data"
    },
    {
     "name": "stdout",
     "output_type": "stream",
     "text": [
      "Summary:  Nancy Drew determines whether an ivory elephant charm really protects\n",
      "its wearer from harm when she investigates the involvement of a member\n",
      "of the Bengleton Wild-Animal Show in a mysterious scheme.\n",
      "\n",
      "\n"
     ]
    }
   ],
   "source": [
    "for url in sim_books_keyword_details.take(5):\n",
    "    print(\"Title: \", url[\"Book-Title\"])\n",
    "    display(Image(url=url[\"Image-URL-M\"]))\n",
    "    print(\"Summary: \", url[\"Summary\"])\n",
    "    print(\"\\n\")"
   ]
  },
  {
   "cell_type": "markdown",
   "metadata": {},
   "source": [
    "### 6. Kết luận (Conclusions)\n",
    "Qua quá trình thực hiện đề tài nhóm em đã học hỏi thêm kiến thức về các mô hình gợi ý sử dụng PySpark cho gợi ý sách. Về tổng quan đè tài đã hoàn thành mức cơ bản, đưa ra được các gợi ý dựa trên sở thích của người dùng và từ khóa được nhập vào. Sau đây là các nhận xét về các thuật toán mà nhóm đã sử dụng\n",
    "\n",
    "6.1 Collaborative Filtering:\n",
    "\n",
    "Ưu điểm:\n",
    "\n",
    "- Dựa trên hành vi người dùng: Collaborative filtering sử dụng thông tin về sự tương tác giữa người dùng và các mục tiêu để đưa ra các gợi ý. Nó không cần thông tin chi tiết về nội dung của các mục tiêu và có thể tìm ra mối quan hệ ẩn giữa người dùng.\n",
    "\n",
    "- Độc lập với nội dung: Collaborative filtering không phụ thuộc vào thông tin nội dung của các mục tiêu. Điều này có nghĩa là nó có thể đưa ra gợi ý cho các mục tiêu mới mà không cần thông tin chi tiết về nội dung của chúng.\n",
    "\n",
    "Nhược điểm:\n",
    "\n",
    "- Vấn đề người dùng mới (cold start): Collaborative filtering gặp khó khăn khi đưa ra gợi ý cho người dùng mới hoặc các mục tiêu mới chưa có sự tương tác từ người dùng. Vì thuật toán dựa trên thông tin tương tác, nếu không có đủ thông tin để xây dựng mô hình người dùng, khó đưa ra gợi ý chính xác.\n",
    "\n",
    "- Vấn đề đánh giá chính xác: Đối với các tập dữ liệu lớn, việc tính toán độ tương đồng giữa người dùng hoặc mục tiêu có thể gặp phải vấn đề về hiệu suất tính toán. Đồng thời, việc đánh giá độ tương đồng có thể bị ảnh hưởng bởi sự thiếu thông tin hoặc đánh giá sai của người dùng.\n",
    "\n",
    "6.2 Content-Based Filtering:\n",
    "\n",
    "Ưu điểm:\n",
    "\n",
    "- Dựa trên nội dung: Content-based filtering sử dụng thông tin về nội dung của các mục tiêu để đưa ra các gợi ý. Điều này cho phép thuật toán hiểu được sở thích của người dùng dựa trên các đặc tính nội dung của mục tiêu. Nó đặc biệt hữu ích khi đưa ra gợi ý cho người dùng mới hoặc khi không có đủ thông tin tương tác từ người dùng.\n",
    "\n",
    "- Giải quyết vấn đề người dùng mới (cold start): Với việc sử dụng thông tin nội dung, content-based filtering có thể đưa ra gợi ý chính xác cho người dùng mới hoặc các mục tiêu mới mà không cần thông tin tương tác trước đó.\n",
    "\n",
    "Nhược điểm:\n",
    "\n",
    "- Hạn chế đa dạng: Content-based filtering có xu hướng đề xuất các mục tiêu tương tự với nhau dựa trên các đặc tính nội dung. Điều này có thể dẫn đến hạn chế đa dạng trong các gợi ý và không khám phá được những sở thích mới hoặc không gian mục tiêu rộng hơn.\n",
    "\n",
    "- Vấn đề khó khăn trong việc xác định đặc tính nội dung: Để áp dụng content-based filtering, cần phải xác định các đặc tính nội dung quan trọng và biểu diễn chúng dưới dạng các đặc trưng. Việc này có thểgặp khó khăn và tốn thời gian, đặc biệt là đối với các loại nội dung phức tạp như âm nhạc, hình ảnh, video."
   ]
  },
  {
   "cell_type": "markdown",
   "metadata": {},
   "source": [
    "### 7. Phụ lục (Appendices)"
   ]
  },
  {
   "cell_type": "markdown",
   "metadata": {},
   "source": [
    "### 8. Đóng góp (Contributions)\n",
    "\n",
    "| Họ và tên         | MSSV      |Công việc                                                                 |\n",
    "|:------------------|:---------:|-------------------------------------------------------------------------:|\n",
    "| Lê Hoàng Khang    | 20133050  |Viết Proposal, Tìm kiếm dữ liệu, Thuật toán content-based filtering       |\n",
    "| Nguyễn Duy Thái   | 20133020  |Viết Report, Tìm kiếm dữ liệu, Thuật toán content-based filtering         |\n",
    "| Nguyễn Thanh Hùng | 20133045  |Viết Presentation, Tiền xử lý dữ liệu, Thuật toán collaborative filtering |\n",
    "| Lê Phước Yên      | 20133119  |Viết Report, Trực quan hóa, Thuật toán collaborative filtering            |"
   ]
  },
  {
   "cell_type": "markdown",
   "metadata": {},
   "source": [
    "### 9. Tham khảo (References)\n",
    "Blog xây dựng hệ thống Recommendation với model ALS - https://www.linkedin.com/pulse/x%C3%A2y-d%E1%BB%B1ng-h%E1%BB%87-th%E1%BB%91ng-recommendation-v%E1%BB%9Bi-model-als-t%C3%A2m-tr%E1%BA%A7n/\n",
    "\n",
    "Blog sử dụng Pyspark cho thuật toán Content-based filtering - https://medium0.com/@beepabose/content-based-filtering-for-book-recommendation-using-pyspark-4369c4cbe006\n",
    "\n",
    "Github nehabais31 - https://github.com/nehabais31/Restaurant-Recommendation-System/blob/main/Restaurant_Recommendation_System.ipynb\n"
   ]
  }
 ],
 "metadata": {
  "kernelspec": {
   "display_name": "Python 3",
   "language": "python",
   "name": "python3"
  },
  "language_info": {
   "codemirror_mode": {
    "name": "ipython",
    "version": 3
   },
   "file_extension": ".py",
   "mimetype": "text/x-python",
   "name": "python",
   "nbconvert_exporter": "python",
   "pygments_lexer": "ipython3",
   "version": "3.10.6"
  }
 },
 "nbformat": 4,
 "nbformat_minor": 2
}
