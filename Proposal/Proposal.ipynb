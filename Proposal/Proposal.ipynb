{
 "cells": [
  {
   "cell_type": "markdown",
   "id": "2f786fb4",
   "metadata": {
    "slideshow": {
     "slide_type": "slide"
    }
   },
   "source": [
    "## Proposal\n",
    "#### Subject : Big Data Applications: Machine Learning at Scale\n",
    "#### Topic: BOOK RECOMMENDATION SYSTEM\n",
    "##### Instructors: ThS. Quách Đình Hoàng"
   ]
  },
  {
   "cell_type": "markdown",
   "id": "e05e78dd",
   "metadata": {
    "slideshow": {
     "slide_type": "subslide"
    }
   },
   "source": [
    "### Member Group1\n",
    "\n",
    "Le Hoang Khang 20133050\n",
    "\n",
    "Nguyen Duy Thai 20133020\n",
    "\n",
    "Nguyen Thanh Hung 20133045\n",
    "\n",
    "Le Phuoc Yen 20133119"
   ]
  },
  {
   "cell_type": "markdown",
   "id": "197a14ba",
   "metadata": {
    "slideshow": {
     "slide_type": "slide"
    }
   },
   "source": [
    "## 01. INTRODUCTION TO THE PROBLEM\n",
    "The problem that our project wants to resolve is recommended books based on an old dataset (information of user, book, rating).\n",
    "\n",
    "From data on a CSV file, we can process, analyze, and train it to build a system that can become a better recommendation system.\n",
    "\n",
    "Then apply the evaluate functions to evaluate models to choose the best models.\n",
    "\n",
    "![title](https://res.cloudinary.com/dalzq0hln/image/upload/v1697982132/image/Picture1_im6yxs.png)"
   ]
  },
  {
   "cell_type": "markdown",
   "id": "41c475d7",
   "metadata": {
    "slideshow": {
     "slide_type": "slide"
    }
   },
   "source": [
    "## 02. ABOUT THE DATASET\n",
    "Link: https://www.kaggle.com/datasets/ruchi798/bookcrossing-dataset\n",
    "\n",
    "Contains 278,858 users, providing 1,149,780 ratings (explicit / implicit) about 271,379 books.\n",
    "\n",
    "![title](https://res.cloudinary.com/dalzq0hln/image/upload/v1697982130/image/Picture2_zkwos3.png)"
   ]
  },
  {
   "cell_type": "markdown",
   "id": "fb9d17b3",
   "metadata": {
    "slideshow": {
     "slide_type": "subslide"
    }
   },
   "source": [
    "##### BX-Book-Ratings.csv\n",
    "\n",
    "![title](https://res.cloudinary.com/dalzq0hln/image/upload/v1697982130/image/Picture3_bdfu3v.png)"
   ]
  },
  {
   "cell_type": "markdown",
   "id": "e03dc5e4",
   "metadata": {
    "slideshow": {
     "slide_type": "subslide"
    }
   },
   "source": [
    "##### BX-Users.csv\n",
    "\n",
    "![title](https://res.cloudinary.com/dalzq0hln/image/upload/v1697982131/image/Picture4_fqe6ia.png)"
   ]
  },
  {
   "cell_type": "markdown",
   "id": "4cdd5cfe",
   "metadata": {
    "slideshow": {
     "slide_type": "subslide"
    }
   },
   "source": [
    "##### BX-Books.csv!\n",
    "\n",
    "![title](https://res.cloudinary.com/dalzq0hln/image/upload/v1697982132/image/Picture5_fcwlt8.png)"
   ]
  },
  {
   "cell_type": "markdown",
   "id": "00d4bf0c",
   "metadata": {
    "slideshow": {
     "slide_type": "slide"
    }
   },
   "source": [
    "## 03. DATA ANALYSIC PLAN \n",
    "Discover information from data, process, and analyze statistics to get the most useful information from the data.\n",
    "\n",
    "Predict the rating that a user would give to a book.\n",
    "\n",
    "Recommend books based on the information of the books, users, ratings."
   ]
  },
  {
   "cell_type": "markdown",
   "id": "df01a797",
   "metadata": {
    "slideshow": {
     "slide_type": "subslide"
    }
   },
   "source": [
    "### Model\n",
    "\n",
    "![titel](https://res.cloudinary.com/dalzq0hln/image/upload/v1697982130/image/Picture6_usinx4.png) "
   ]
  },
  {
   "cell_type": "markdown",
   "id": "4038b926",
   "metadata": {
    "slideshow": {
     "slide_type": "subslide"
    }
   },
   "source": [
    "### Model\n",
    "\n",
    "![titel](https://res.cloudinary.com/dalzq0hln/image/upload/v1697982130/image/Picture7_qsdel8.png)"
   ]
  },
  {
   "cell_type": "markdown",
   "id": "4d4bed69",
   "metadata": {
    "slideshow": {
     "slide_type": "subslide"
    }
   },
   "source": [
    "### Evaluation\n",
    "\n",
    "Cross- validation\n",
    "\n",
    "RMSE\n",
    "\n",
    "Precision, Recall and F1-score\n"
   ]
  },
  {
   "cell_type": "markdown",
   "id": "72bea54d",
   "metadata": {
    "slideshow": {
     "slide_type": "subslide"
    }
   },
   "source": [
    "### Work plan\n",
    "|      Members        | Mission |\n",
    "|---------------------|---------|\n",
    "|   Lê Hoang Khang    |Tiền xử lý dữ liệu|\n",
    "|   Nguyễn Duy Thái   |Xây dựng mô hình Collaborative Fillterling|\n",
    "|   Nguyễn Thanh Hùng |Xây dựng mô hình Content-Based Fillterling|\n",
    "|   Lê Phước Yên      |Đánh giá mô hình, chọn tham số cho các mô hình|"
   ]
  }
 ],
 "metadata": {
  "celltoolbar": "Slideshow",
  "kernelspec": {
   "display_name": "Python 3 (ipykernel)",
   "language": "python",
   "name": "python3"
  },
  "language_info": {
   "codemirror_mode": {
    "name": "ipython",
    "version": 3
   },
   "file_extension": ".py",
   "mimetype": "text/x-python",
   "name": "python",
   "nbconvert_exporter": "python",
   "pygments_lexer": "ipython3",
   "version": "3.9.12"
  }
 },
 "nbformat": 4,
 "nbformat_minor": 5
}
